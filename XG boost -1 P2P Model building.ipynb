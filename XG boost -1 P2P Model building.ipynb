{
 "cells": [
  {
   "cell_type": "markdown",
   "id": "0e13c8aa",
   "metadata": {},
   "source": [
    "# Model BUilding with XGboost\n"
   ]
  },
  {
   "cell_type": "code",
   "execution_count": 21,
   "id": "633f5275",
   "metadata": {},
   "outputs": [],
   "source": [
    "import xgboost as xgb"
   ]
  },
  {
   "cell_type": "code",
   "execution_count": 22,
   "id": "2a331abb",
   "metadata": {},
   "outputs": [],
   "source": [
    "#before you can train xgboost, you need to change data into a DMatrix\n",
    "train = xgb.DMatrix(X_train, label=Y_train)\n",
    "test = xgb.DMatrix(X_test, label=Y_test)"
   ]
  },
  {
   "cell_type": "code",
   "execution_count": 23,
   "id": "f29d089f",
   "metadata": {},
   "outputs": [],
   "source": [
    "#now we have to define the hyperparameter values for XGBOOST\n",
    "param = {\n",
    "    'max_depth' : 2,\n",
    "    'eta' : 0.2,\n",
    "    'objective' : 'binary:hinge'\n",
    "}\n",
    "epochs = 100"
   ]
  },
  {
   "cell_type": "code",
   "execution_count": 24,
   "id": "0244988e",
   "metadata": {},
   "outputs": [],
   "source": [
    "model = xgb.train(param, train, epochs)"
   ]
  },
  {
   "cell_type": "code",
   "execution_count": 25,
   "id": "6f0206b8",
   "metadata": {},
   "outputs": [
    {
     "name": "stdout",
     "output_type": "stream",
     "text": [
      "[1. 1. 1. ... 1. 1. 1.]\n"
     ]
    }
   ],
   "source": [
    "tesing_predictions = model.predict(test)\n",
    "print (tesing_predictions)\n",
    "\n",
    "training_predictions = model.predict(train)"
   ]
  },
  {
   "cell_type": "code",
   "execution_count": 27,
   "id": "a0bf6c6c",
   "metadata": {},
   "outputs": [
    {
     "data": {
      "text/plain": [
       "0.8662947790464569"
      ]
     },
     "execution_count": 27,
     "metadata": {},
     "output_type": "execute_result"
    }
   ],
   "source": [
    "# Checking accuracy score\n",
    "from sklearn.metrics import accuracy_score\n",
    "accuracy_score(Y_test,tesing_predictions)"
   ]
  },
  {
   "cell_type": "code",
   "execution_count": null,
   "id": "84297523",
   "metadata": {},
   "outputs": [],
   "source": []
  },
  {
   "cell_type": "code",
   "execution_count": null,
   "id": "6b370926",
   "metadata": {},
   "outputs": [],
   "source": []
  }
 ],
 "metadata": {
  "kernelspec": {
   "display_name": "Python 3 (ipykernel)",
   "language": "python",
   "name": "python3"
  },
  "language_info": {
   "codemirror_mode": {
    "name": "ipython",
    "version": 3
   },
   "file_extension": ".py",
   "mimetype": "text/x-python",
   "name": "python",
   "nbconvert_exporter": "python",
   "pygments_lexer": "ipython3",
   "version": "3.9.13"
  }
 },
 "nbformat": 4,
 "nbformat_minor": 5
}
