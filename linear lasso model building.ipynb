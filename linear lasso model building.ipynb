{
 "cells": [
  {
   "cell_type": "code",
   "execution_count": 44,
   "metadata": {
    "colab": {
     "base_uri": "https://localhost:8080/",
     "height": 386
    },
    "id": "N6I3t03MKwq3",
    "outputId": "705a2f56-0e89-490d-ad87-74eb3a1dc7e5"
   },
   "outputs": [
    {
     "data": {
      "text/html": [
       "<div>\n",
       "<style scoped>\n",
       "    .dataframe tbody tr th:only-of-type {\n",
       "        vertical-align: middle;\n",
       "    }\n",
       "\n",
       "    .dataframe tbody tr th {\n",
       "        vertical-align: top;\n",
       "    }\n",
       "\n",
       "    .dataframe thead th {\n",
       "        text-align: right;\n",
       "    }\n",
       "</style>\n",
       "<table border=\"1\" class=\"dataframe\">\n",
       "  <thead>\n",
       "    <tr style=\"text-align: right;\">\n",
       "      <th></th>\n",
       "      <th>ListingKey</th>\n",
       "      <th>ListingNumber</th>\n",
       "      <th>ListingCreationDate</th>\n",
       "      <th>CreditGrade</th>\n",
       "      <th>Term</th>\n",
       "      <th>LoanStatus</th>\n",
       "      <th>ClosedDate</th>\n",
       "      <th>BorrowerAPR</th>\n",
       "      <th>BorrowerRate</th>\n",
       "      <th>LenderYield</th>\n",
       "      <th>...</th>\n",
       "      <th>month</th>\n",
       "      <th>𝑀𝑎𝑡𝑢𝑟𝑖𝑡𝑦𝐷𝑎𝑡𝑂𝑟𝑖𝑔𝑖𝑛𝑎𝑙𝑦𝑒𝑎𝑟</th>\n",
       "      <th>𝑀𝑎𝑡𝑢𝑟𝑖𝑡𝑦𝐷𝑎𝑡𝑒𝑂𝑟𝑖𝑔𝑖𝑛𝑎𝑙𝑚𝑜𝑛𝑡ℎ</th>\n",
       "      <th>LoanTenure</th>\n",
       "      <th>EMI</th>\n",
       "      <th>InterestAmount</th>\n",
       "      <th>TotalAmount</th>\n",
       "      <th>ROI</th>\n",
       "      <th>PROI</th>\n",
       "      <th>EligibleLoanAmount</th>\n",
       "    </tr>\n",
       "  </thead>\n",
       "  <tbody>\n",
       "    <tr>\n",
       "      <th>0</th>\n",
       "      <td>1021339766868145413AB3B</td>\n",
       "      <td>193129.0</td>\n",
       "      <td>2007-08-26 19:09:29.263000000</td>\n",
       "      <td>C</td>\n",
       "      <td>36.0</td>\n",
       "      <td>Non-Defaulted</td>\n",
       "      <td>2009-08-14</td>\n",
       "      <td>0.16516</td>\n",
       "      <td>0.1580</td>\n",
       "      <td>0.1380</td>\n",
       "      <td>...</td>\n",
       "      <td>8</td>\n",
       "      <td>2007</td>\n",
       "      <td>9</td>\n",
       "      <td>-25</td>\n",
       "      <td>-39.035716</td>\n",
       "      <td>1489.150</td>\n",
       "      <td>10914.150</td>\n",
       "      <td>0.136442</td>\n",
       "      <td>0.165972</td>\n",
       "      <td>9425.000000</td>\n",
       "    </tr>\n",
       "    <tr>\n",
       "      <th>2</th>\n",
       "      <td>0EE9337825851032864889A</td>\n",
       "      <td>81716.0</td>\n",
       "      <td>2007-01-05 15:00:47.090000000</td>\n",
       "      <td>HR</td>\n",
       "      <td>36.0</td>\n",
       "      <td>Non-Defaulted</td>\n",
       "      <td>2009-12-17</td>\n",
       "      <td>0.28269</td>\n",
       "      <td>0.2750</td>\n",
       "      <td>0.2400</td>\n",
       "      <td>...</td>\n",
       "      <td>12</td>\n",
       "      <td>2007</td>\n",
       "      <td>1</td>\n",
       "      <td>-13</td>\n",
       "      <td>-36.629126</td>\n",
       "      <td>825.275</td>\n",
       "      <td>3826.275</td>\n",
       "      <td>0.215686</td>\n",
       "      <td>0.215972</td>\n",
       "      <td>3001.000000</td>\n",
       "    </tr>\n",
       "    <tr>\n",
       "      <th>11</th>\n",
       "      <td>0F1734025150298088A5F2B</td>\n",
       "      <td>213551.0</td>\n",
       "      <td>2007-10-09 20:28:33.640000000</td>\n",
       "      <td>C</td>\n",
       "      <td>36.0</td>\n",
       "      <td>Non-Defaulted</td>\n",
       "      <td>2008-01-07</td>\n",
       "      <td>0.15033</td>\n",
       "      <td>0.1325</td>\n",
       "      <td>0.1225</td>\n",
       "      <td>...</td>\n",
       "      <td>1</td>\n",
       "      <td>2007</td>\n",
       "      <td>10</td>\n",
       "      <td>-21</td>\n",
       "      <td>-10.482906</td>\n",
       "      <td>132.500</td>\n",
       "      <td>1132.500</td>\n",
       "      <td>0.116998</td>\n",
       "      <td>0.165972</td>\n",
       "      <td>1000.000000</td>\n",
       "    </tr>\n",
       "    <tr>\n",
       "      <th>12</th>\n",
       "      <td>0F1A3597143888805163EF7</td>\n",
       "      <td>1081604.0</td>\n",
       "      <td>2013-12-15 20:01:10.757000000</td>\n",
       "      <td>C</td>\n",
       "      <td>36.0</td>\n",
       "      <td>Non-Defaulted</td>\n",
       "      <td>2014-03-04</td>\n",
       "      <td>0.17969</td>\n",
       "      <td>0.1435</td>\n",
       "      <td>0.1335</td>\n",
       "      <td>...</td>\n",
       "      <td>3</td>\n",
       "      <td>2014</td>\n",
       "      <td>1</td>\n",
       "      <td>2</td>\n",
       "      <td>54.072767</td>\n",
       "      <td>574.000</td>\n",
       "      <td>4574.000</td>\n",
       "      <td>0.125492</td>\n",
       "      <td>0.165972</td>\n",
       "      <td>8700.000001</td>\n",
       "    </tr>\n",
       "    <tr>\n",
       "      <th>15</th>\n",
       "      <td>0F483544120452347F48121</td>\n",
       "      <td>577164.0</td>\n",
       "      <td>2012-04-10 09:14:46.297000000</td>\n",
       "      <td>C</td>\n",
       "      <td>36.0</td>\n",
       "      <td>Non-Defaulted</td>\n",
       "      <td>2012-12-19</td>\n",
       "      <td>0.35797</td>\n",
       "      <td>0.3177</td>\n",
       "      <td>0.3077</td>\n",
       "      <td>...</td>\n",
       "      <td>12</td>\n",
       "      <td>2012</td>\n",
       "      <td>4</td>\n",
       "      <td>8</td>\n",
       "      <td>74.875277</td>\n",
       "      <td>1270.800</td>\n",
       "      <td>5270.800</td>\n",
       "      <td>0.241102</td>\n",
       "      <td>0.215972</td>\n",
       "      <td>19800.000000</td>\n",
       "    </tr>\n",
       "  </tbody>\n",
       "</table>\n",
       "<p>5 rows × 92 columns</p>\n",
       "</div>"
      ],
      "text/plain": [
       "                 ListingKey  ListingNumber            ListingCreationDate  \\\n",
       "0   1021339766868145413AB3B       193129.0  2007-08-26 19:09:29.263000000   \n",
       "2   0EE9337825851032864889A        81716.0  2007-01-05 15:00:47.090000000   \n",
       "11  0F1734025150298088A5F2B       213551.0  2007-10-09 20:28:33.640000000   \n",
       "12  0F1A3597143888805163EF7      1081604.0  2013-12-15 20:01:10.757000000   \n",
       "15  0F483544120452347F48121       577164.0  2012-04-10 09:14:46.297000000   \n",
       "\n",
       "   CreditGrade  Term     LoanStatus ClosedDate  BorrowerAPR  BorrowerRate  \\\n",
       "0            C  36.0  Non-Defaulted 2009-08-14      0.16516        0.1580   \n",
       "2           HR  36.0  Non-Defaulted 2009-12-17      0.28269        0.2750   \n",
       "11           C  36.0  Non-Defaulted 2008-01-07      0.15033        0.1325   \n",
       "12           C  36.0  Non-Defaulted 2014-03-04      0.17969        0.1435   \n",
       "15           C  36.0  Non-Defaulted 2012-12-19      0.35797        0.3177   \n",
       "\n",
       "    LenderYield  ...  month  𝑀𝑎𝑡𝑢𝑟𝑖𝑡𝑦𝐷𝑎𝑡𝑂𝑟𝑖𝑔𝑖𝑛𝑎𝑙𝑦𝑒𝑎𝑟  \\\n",
       "0        0.1380  ...      8                     2007   \n",
       "2        0.2400  ...     12                     2007   \n",
       "11       0.1225  ...      1                     2007   \n",
       "12       0.1335  ...      3                     2014   \n",
       "15       0.3077  ...     12                     2012   \n",
       "\n",
       "    𝑀𝑎𝑡𝑢𝑟𝑖𝑡𝑦𝐷𝑎𝑡𝑒𝑂𝑟𝑖𝑔𝑖𝑛𝑎𝑙𝑚𝑜𝑛𝑡ℎ  LoanTenure        EMI  InterestAmount  \\\n",
       "0                           9         -25 -39.035716        1489.150   \n",
       "2                           1         -13 -36.629126         825.275   \n",
       "11                         10         -21 -10.482906         132.500   \n",
       "12                          1           2  54.072767         574.000   \n",
       "15                          4           8  74.875277        1270.800   \n",
       "\n",
       "    TotalAmount       ROI      PROI EligibleLoanAmount  \n",
       "0     10914.150  0.136442  0.165972        9425.000000  \n",
       "2      3826.275  0.215686  0.215972        3001.000000  \n",
       "11     1132.500  0.116998  0.165972        1000.000000  \n",
       "12     4574.000  0.125492  0.165972        8700.000001  \n",
       "15     5270.800  0.241102  0.215972       19800.000000  \n",
       "\n",
       "[5 rows x 92 columns]"
      ]
     },
     "execution_count": 44,
     "metadata": {},
     "output_type": "execute_result"
    }
   ],
   "source": [
    "df_new.head()"
   ]
  },
  {
   "cell_type": "code",
   "execution_count": 45,
   "metadata": {
    "id": "8k0c8pzt5KF9"
   },
   "outputs": [],
   "source": [
    "cols_emi= ['LP_CustomerPayments' , 'LP_CustomerPrincipalPayments',\n",
    "        '𝐿𝑜𝑎𝑛𝐷𝑎𝑡𝑒𝑦𝑒𝑎𝑟','month','𝑀𝑎𝑡𝑢𝑟𝑖𝑡𝑦𝐷𝑎𝑡𝑂𝑟𝑖𝑔𝑖𝑛𝑎𝑙𝑦𝑒𝑎𝑟','𝑀𝑎𝑡𝑢𝑟𝑖𝑡𝑦𝐷𝑎𝑡𝑒𝑂𝑟𝑖𝑔𝑖𝑛𝑎𝑙𝑚𝑜𝑛𝑡ℎ',\n",
    "        'LP_CustomerPrincipalPayments','BorrowerRate']"
   ]
  },
  {
   "cell_type": "code",
   "execution_count": 46,
   "metadata": {
    "id": "ePI0afh_0h3x"
   },
   "outputs": [],
   "source": [
    "from sklearn.linear_model import LinearRegression\n",
    "from sklearn.model_selection import train_test_split"
   ]
  },
  {
   "cell_type": "code",
   "execution_count": 47,
   "metadata": {},
   "outputs": [],
   "source": [
    "from sklearn.linear_model import Lasso"
   ]
  },
  {
   "cell_type": "code",
   "execution_count": 48,
   "metadata": {
    "id": "1reG4ZKF2Lrl"
   },
   "outputs": [],
   "source": [
    "df_model = df_new"
   ]
  },
  {
   "cell_type": "code",
   "execution_count": 49,
   "metadata": {
    "id": "t6o_3WOD25r8"
   },
   "outputs": [],
   "source": [
    "df_model=df_model.fillna(0)"
   ]
  },
  {
   "cell_type": "code",
   "execution_count": 50,
   "metadata": {
    "id": "9FhidvOX3D1-"
   },
   "outputs": [],
   "source": [
    "df_model['EMI'].replace([np.inf, -np.inf], np.nan, inplace=True)"
   ]
  },
  {
   "cell_type": "code",
   "execution_count": 51,
   "metadata": {
    "colab": {
     "base_uri": "https://localhost:8080/"
    },
    "id": "px7y4tqJ3MEH",
    "outputId": "e3366cf6-25c0-46a0-a04d-61d30dc53a50"
   },
   "outputs": [
    {
     "data": {
      "text/plain": [
       "True"
      ]
     },
     "execution_count": 51,
     "metadata": {},
     "output_type": "execute_result"
    }
   ],
   "source": [
    "df_model['EMI'].isna().any()"
   ]
  },
  {
   "cell_type": "code",
   "execution_count": 52,
   "metadata": {
    "id": "J0M2-EQz3TTN"
   },
   "outputs": [],
   "source": [
    "df_model=df_model.fillna(0)"
   ]
  },
  {
   "cell_type": "code",
   "execution_count": 53,
   "metadata": {
    "id": "ZCIlTHoj2IUV"
   },
   "outputs": [],
   "source": [
    "#Assign X and y\n",
    "X = df_model[cols_emi].values\n",
    "y = df_model['EMI'].values"
   ]
  },
  {
   "cell_type": "code",
   "execution_count": 54,
   "metadata": {
    "colab": {
     "base_uri": "https://localhost:8080/"
    },
    "id": "QqC4g71H2qkY",
    "outputId": "7f349a60-47dc-4e35-a008-af6b5cdeb4af"
   },
   "outputs": [
    {
     "name": "stdout",
     "output_type": "stream",
     "text": [
      "Training accuracy for EMI= 0.2206579171739913\n",
      "Testing accuracy for EMI= 0.21881099714470442\n"
     ]
    }
   ],
   "source": [
    "#split\n",
    "X_train, X_test, y_train, y_test = train_test_split(X, y, test_size=0.3, random_state=42)\n",
    "\n",
    "# Fit linear regression model\n",
    "lr = LinearRegression()\n",
    "lr.fit(X_train, y_train)\n",
    "\n",
    "# Evaluating the model \n",
    "print(\"Training accuracy for EMI=\", lr.score(X_train, y_train))\n",
    "print(\"Testing accuracy for EMI=\", lr.score(X_test, y_test))"
   ]
  },
  {
   "cell_type": "code",
   "execution_count": 61,
   "metadata": {},
   "outputs": [],
   "source": [
    "ls = Lasso()"
   ]
  },
  {
   "cell_type": "code",
   "execution_count": 66,
   "metadata": {},
   "outputs": [
    {
     "data": {
      "text/plain": [
       "Lasso()"
      ]
     },
     "execution_count": 66,
     "metadata": {},
     "output_type": "execute_result"
    }
   ],
   "source": [
    "ls.fit(X_train,y_train)"
   ]
  },
  {
   "cell_type": "code",
   "execution_count": 68,
   "metadata": {},
   "outputs": [
    {
     "name": "stdout",
     "output_type": "stream",
     "text": [
      "Model score for EMI after lasso regression 0.7448091810523456\n"
     ]
    }
   ],
   "source": [
    "ls.score(X_test,y_test)\n",
    "print(\"Model score for EMI after lasso regression\",ls.score(X_test,y_test))"
   ]
  },
  {
   "cell_type": "code",
   "execution_count": 55,
   "metadata": {
    "id": "O_P-P7H47Mdl"
   },
   "outputs": [],
   "source": [
    "cols_roi=['LoanOriginalAmount','BorrowerRate'\n",
    ",'TradesNeverDelinquent (percentage)',\n",
    "'AvailableBankcardCredit','TotalInquiries'\n",
    ",'InterestAmount','TotalAmount','StatedMonthlyIncome', 'DebtToIncomeRatio']"
   ]
  },
  {
   "cell_type": "code",
   "execution_count": 69,
   "metadata": {
    "id": "rtche9gh2bLW"
   },
   "outputs": [],
   "source": [
    "#Assign X and y\n",
    "X = df_model[cols_roi].values\n",
    "y = df_model['ROI'].values"
   ]
  },
  {
   "cell_type": "code",
   "execution_count": 70,
   "metadata": {
    "colab": {
     "base_uri": "https://localhost:8080/"
    },
    "id": "6xfTH4GR4FM1",
    "outputId": "56790883-5962-4097-b27d-138e603b97db"
   },
   "outputs": [
    {
     "name": "stdout",
     "output_type": "stream",
     "text": [
      "Training accuracy for ROI= 0.9964358869233876\n",
      "Testing accuracy for ROI= 0.9964570418495502\n"
     ]
    }
   ],
   "source": [
    "#split\n",
    "X_train, X_test, y_train, y_test = train_test_split(X, y, test_size=0.3, random_state=42)\n",
    "\n",
    "# Fit linear regression model\n",
    "lr = LinearRegression()\n",
    "lr.fit(X_train, y_train)\n",
    "\n",
    "# Evaluating the model \n",
    "print(\"Training accuracy for ROI=\", lr.score(X_train, y_train))\n",
    "print(\"Testing accuracy for ROI=\", lr.score(X_test, y_test))"
   ]
  },
  {
   "cell_type": "code",
   "execution_count": 72,
   "metadata": {},
   "outputs": [],
   "source": [
    "ls1 = Lasso()"
   ]
  },
  {
   "cell_type": "code",
   "execution_count": 73,
   "metadata": {},
   "outputs": [
    {
     "data": {
      "text/plain": [
       "Lasso()"
      ]
     },
     "execution_count": 73,
     "metadata": {},
     "output_type": "execute_result"
    }
   ],
   "source": [
    "ls1.fit(X_train,y_train)"
   ]
  },
  {
   "cell_type": "code",
   "execution_count": 74,
   "metadata": {},
   "outputs": [
    {
     "name": "stdout",
     "output_type": "stream",
     "text": [
      "Model score for ROI after lasso regression 0.6094199119719128\n"
     ]
    }
   ],
   "source": [
    "ls1.score(X_test,y_test)\n",
    "print(\"Model score for ROI after lasso regression\",ls1.score(X_test,y_test))"
   ]
  },
  {
   "cell_type": "code",
   "execution_count": 75,
   "metadata": {
    "id": "GcmuhsYB4JZM"
   },
   "outputs": [],
   "source": [
    "cols_ela=['DebtToIncomeRatio'  , \n",
    "          'IncomeVerifiable' , 'StatedMonthlyIncome',\n",
    "          'LoanOriginalAmount','StatedMonthlyIncome',\n",
    "          'BorrowerRate','LoanTenure']"
   ]
  },
  {
   "cell_type": "code",
   "execution_count": 76,
   "metadata": {
    "id": "rRLlXRle8HRC"
   },
   "outputs": [],
   "source": [
    "#Assign X and y\n",
    "X = df_model[cols_ela].values\n",
    "y = df_model['EligibleLoanAmount'].values"
   ]
  },
  {
   "cell_type": "code",
   "execution_count": 77,
   "metadata": {
    "colab": {
     "base_uri": "https://localhost:8080/"
    },
    "id": "NbeqqG2G8GFR",
    "outputId": "c286fb22-2681-48b3-d073-b557a32a0db3"
   },
   "outputs": [
    {
     "name": "stdout",
     "output_type": "stream",
     "text": [
      "Training accuracy for ELA= 0.7540640683618861\n",
      "Testing accuracy for ELA= 0.742537658418467\n"
     ]
    }
   ],
   "source": [
    "#split\n",
    "X_train, X_test, y_train, y_test = train_test_split(X, y, test_size=0.3, random_state=42)\n",
    "\n",
    "# Fit linear regression model\n",
    "lr = LinearRegression()\n",
    "lr.fit(X_train, y_train)\n",
    "\n",
    "# Evaluating the model \n",
    "print(\"Training accuracy for ELA=\", lr.score(X_train, y_train))\n",
    "print(\"Testing accuracy for ELA=\", lr.score(X_test, y_test))"
   ]
  },
  {
   "cell_type": "code",
   "execution_count": 78,
   "metadata": {
    "id": "tEzOuWnI845s"
   },
   "outputs": [],
   "source": [
    "ls3 = Lasso()"
   ]
  },
  {
   "cell_type": "code",
   "execution_count": 79,
   "metadata": {},
   "outputs": [
    {
     "data": {
      "text/plain": [
       "Lasso()"
      ]
     },
     "execution_count": 79,
     "metadata": {},
     "output_type": "execute_result"
    }
   ],
   "source": [
    "ls3.fit(X_train,y_train)"
   ]
  },
  {
   "cell_type": "code",
   "execution_count": 80,
   "metadata": {},
   "outputs": [
    {
     "name": "stdout",
     "output_type": "stream",
     "text": [
      "Model score for ELA after lasso regression 0.7425645379205026\n"
     ]
    }
   ],
   "source": [
    "ls3.score(X_test,y_test)\n",
    "print(\"Model score for ELA after lasso regression\",ls3.score(X_test,y_test))"
   ]
  },
  {
   "cell_type": "code",
   "execution_count": null,
   "metadata": {},
   "outputs": [],
   "source": []
  }
 ],
 "metadata": {
  "colab": {
   "provenance": []
  },
  "kernelspec": {
   "display_name": "Python 3 (ipykernel)",
   "language": "python",
   "name": "python3"
  },
  "language_info": {
   "codemirror_mode": {
    "name": "ipython",
    "version": 3
   },
   "file_extension": ".py",
   "mimetype": "text/x-python",
   "name": "python",
   "nbconvert_exporter": "python",
   "pygments_lexer": "ipython3",
   "version": "3.9.13"
  }
 },
 "nbformat": 4,
 "nbformat_minor": 1
}
